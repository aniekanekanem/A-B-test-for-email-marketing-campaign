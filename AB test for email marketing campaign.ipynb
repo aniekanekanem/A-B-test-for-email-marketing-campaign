{
 "cells": [
  {
   "cell_type": "markdown",
   "id": "d08bb0be-e29d-41d0-9580-f3aa33a6584d",
   "metadata": {},
   "source": [
    "**PROJECT TITLE**: A/B test for email marketing campaign\n",
    "\n",
    "- Date Created: March 27 2024\n",
    "- Project Type: Research Project\n",
    "- Author: Aniekan Charles Ekanem\n",
    "- Designation: Data Analyst"
   ]
  },
  {
   "cell_type": "markdown",
   "id": "dc85c921-3168-4bbf-814a-07ee40a802b8",
   "metadata": {},
   "source": [
    "**PROJECT INTRODUCTION**\n",
    "\n",
    "This is a test project using fake data which could be applied on a real time data to study the opening rate of two sample email letter headings to decide on which header is best to use to run an email marketing campaign for a business.\n",
    "\n",
    "Data used for this purpose is a fake data. However, the idea of this project is to run a test analysis to see how subscribers will respond to two subject titles and then making business decision on which one to use for the final phase of the marketing campaign.\n",
    "\n",
    "This study is to use SQL in analyzing a dataset using SQLite3 to connect the dataset to a blank table within a named SQLite database while the table takes up the content of the dataset ready for further analysis."
   ]
  },
  {
   "cell_type": "code",
   "execution_count": 1,
   "id": "c4f33eac-b7ea-4fd8-939e-f71d782b9e59",
   "metadata": {},
   "outputs": [],
   "source": [
    "# Import libraries\n",
    "\n",
    "import pandas as pd\n",
    "import numpy as np\n",
    "import csv\n",
    "import sqlite3"
   ]
  },
  {
   "cell_type": "code",
   "execution_count": 2,
   "id": "3356b42e-62ab-4216-b843-7c0cfe605d1a",
   "metadata": {},
   "outputs": [
    {
     "name": "stdout",
     "output_type": "stream",
     "text": [
      "Requirement already satisfied: ipython-sql in /home/aniekan/.pyenv/versions/3.10.6/lib/python3.10/site-packages (0.5.0)\n",
      "Requirement already satisfied: prettytable in /home/aniekan/.pyenv/versions/3.10.6/lib/python3.10/site-packages (from ipython-sql) (3.10.0)\n",
      "Requirement already satisfied: ipython in /home/aniekan/.pyenv/versions/3.10.6/lib/python3.10/site-packages (from ipython-sql) (8.15.0)\n",
      "Requirement already satisfied: sqlalchemy>=2.0 in /home/aniekan/.pyenv/versions/3.10.6/lib/python3.10/site-packages (from ipython-sql) (2.0.29)\n",
      "Requirement already satisfied: sqlparse in /home/aniekan/.pyenv/versions/3.10.6/lib/python3.10/site-packages (from ipython-sql) (0.4.4)\n",
      "Requirement already satisfied: six in /home/aniekan/.pyenv/versions/3.10.6/lib/python3.10/site-packages (from ipython-sql) (1.16.0)\n",
      "Requirement already satisfied: ipython-genutils in /home/aniekan/.pyenv/versions/3.10.6/lib/python3.10/site-packages (from ipython-sql) (0.2.0)\n",
      "Requirement already satisfied: typing-extensions>=4.6.0 in /home/aniekan/.pyenv/versions/3.10.6/lib/python3.10/site-packages (from sqlalchemy>=2.0->ipython-sql) (4.7.1)\n",
      "Requirement already satisfied: greenlet!=0.4.17 in /home/aniekan/.pyenv/versions/3.10.6/lib/python3.10/site-packages (from sqlalchemy>=2.0->ipython-sql) (3.0.3)\n",
      "Requirement already satisfied: backcall in /home/aniekan/.pyenv/versions/3.10.6/lib/python3.10/site-packages (from ipython->ipython-sql) (0.2.0)\n",
      "Requirement already satisfied: decorator in /home/aniekan/.pyenv/versions/3.10.6/lib/python3.10/site-packages (from ipython->ipython-sql) (5.1.1)\n",
      "Requirement already satisfied: jedi>=0.16 in /home/aniekan/.pyenv/versions/3.10.6/lib/python3.10/site-packages (from ipython->ipython-sql) (0.19.0)\n",
      "Requirement already satisfied: matplotlib-inline in /home/aniekan/.pyenv/versions/3.10.6/lib/python3.10/site-packages (from ipython->ipython-sql) (0.1.6)\n",
      "Requirement already satisfied: pickleshare in /home/aniekan/.pyenv/versions/3.10.6/lib/python3.10/site-packages (from ipython->ipython-sql) (0.7.5)\n",
      "Requirement already satisfied: prompt-toolkit!=3.0.37,<3.1.0,>=3.0.30 in /home/aniekan/.pyenv/versions/3.10.6/lib/python3.10/site-packages (from ipython->ipython-sql) (3.0.39)\n",
      "Requirement already satisfied: pygments>=2.4.0 in /home/aniekan/.pyenv/versions/3.10.6/lib/python3.10/site-packages (from ipython->ipython-sql) (2.16.1)\n",
      "Requirement already satisfied: stack-data in /home/aniekan/.pyenv/versions/3.10.6/lib/python3.10/site-packages (from ipython->ipython-sql) (0.6.2)\n",
      "Requirement already satisfied: traitlets>=5 in /home/aniekan/.pyenv/versions/3.10.6/lib/python3.10/site-packages (from ipython->ipython-sql) (5.9.0)\n",
      "Requirement already satisfied: exceptiongroup in /home/aniekan/.pyenv/versions/3.10.6/lib/python3.10/site-packages (from ipython->ipython-sql) (1.1.3)\n",
      "Requirement already satisfied: pexpect>4.3 in /home/aniekan/.pyenv/versions/3.10.6/lib/python3.10/site-packages (from ipython->ipython-sql) (4.8.0)\n",
      "Requirement already satisfied: wcwidth in /home/aniekan/.pyenv/versions/3.10.6/lib/python3.10/site-packages (from prettytable->ipython-sql) (0.2.6)\n",
      "Requirement already satisfied: parso<0.9.0,>=0.8.3 in /home/aniekan/.pyenv/versions/3.10.6/lib/python3.10/site-packages (from jedi>=0.16->ipython->ipython-sql) (0.8.3)\n",
      "Requirement already satisfied: ptyprocess>=0.5 in /home/aniekan/.pyenv/versions/3.10.6/lib/python3.10/site-packages (from pexpect>4.3->ipython->ipython-sql) (0.7.0)\n",
      "Requirement already satisfied: executing>=1.2.0 in /home/aniekan/.pyenv/versions/3.10.6/lib/python3.10/site-packages (from stack-data->ipython->ipython-sql) (1.2.0)\n",
      "Requirement already satisfied: asttokens>=2.1.0 in /home/aniekan/.pyenv/versions/3.10.6/lib/python3.10/site-packages (from stack-data->ipython->ipython-sql) (2.4.0)\n",
      "Requirement already satisfied: pure-eval in /home/aniekan/.pyenv/versions/3.10.6/lib/python3.10/site-packages (from stack-data->ipython->ipython-sql) (0.2.2)\n"
     ]
    }
   ],
   "source": [
    "# install the ipython-sql library\n",
    "!pip install ipython-sql"
   ]
  },
  {
   "cell_type": "code",
   "execution_count": 3,
   "id": "0be66c8b-b616-43bc-a639-9e977f57aa41",
   "metadata": {},
   "outputs": [],
   "source": [
    "# Load dataframe\n",
    "\n",
    "df = pd.read_csv('/home/aniekan/jupyterlab_datasets_for_practice/email_subject_line_open_rate.csv')"
   ]
  },
  {
   "cell_type": "code",
   "execution_count": 4,
   "id": "4ba0d656-070c-4a7a-abb5-974658a475fe",
   "metadata": {},
   "outputs": [],
   "source": [
    "# Activate sqlite3 library and use it to create a connection, call the name of this connection \"connect_pipe'.  \n",
    "# This connection is linked to a newly formed database for this purpose called \"email_marketing_fcwaiz.db\"\n",
    "\n",
    "connect_pipe = sqlite3.connect('email_marketing_fcwaiz.db')"
   ]
  },
  {
   "cell_type": "code",
   "execution_count": 5,
   "id": "c96fa08b-7876-405c-8fcb-cfc0cf33725a",
   "metadata": {},
   "outputs": [],
   "source": [
    "# Note that 'email_marketing_fcwaiz.db' is a blank database created, so that 'email_marketing_campaign_fcwaiz' is \n",
    "# added to it as a table in sqlite3 to be used for further query\n",
    "\n",
    "cursor = df.to_sql('email_marketing_campaign_fcwaiz', connect_pipe)  # Summary here is that the data(df) is being set up in the database, i.e (df) is transferred \n",
    "                                                                     # to the newly formed table \"email_marketing_campaign_fcwaiz\" which was created in the a blank database \n",
    "                                                                     # called \"email_marketing_fcwaiz.db\""
   ]
  },
  {
   "cell_type": "code",
   "execution_count": 6,
   "id": "ccf29882-1727-4d59-bbab-18599072bb7a",
   "metadata": {},
   "outputs": [],
   "source": [
    "# load the sql module to ipython using line magic (%)\n",
    "%load_ext sql"
   ]
  },
  {
   "cell_type": "code",
   "execution_count": 14,
   "id": "e35ae3c0-4416-4ccb-a041-50689b623b70",
   "metadata": {},
   "outputs": [],
   "source": [
    "# This points the Jupyter sql library to the database to be used\n",
    "%sql sqlite:///email_marketing_fcwaiz.db  "
   ]
  },
  {
   "cell_type": "code",
   "execution_count": 15,
   "id": "27690a5d-a04b-4cf2-8665-c536fc748d20",
   "metadata": {},
   "outputs": [
    {
     "name": "stdout",
     "output_type": "stream",
     "text": [
      " * sqlite:///email_marketing_fcwaiz.db\n",
      "Done.\n"
     ]
    },
    {
     "data": {
      "text/html": [
       "<table>\n",
       "    <thead>\n",
       "        <tr>\n",
       "            <th>index</th>\n",
       "            <th>email_id</th>\n",
       "            <th>subject_line</th>\n",
       "            <th>opened_status</th>\n",
       "        </tr>\n",
       "    </thead>\n",
       "    <tbody>\n",
       "        <tr>\n",
       "            <td>0</td>\n",
       "            <td>1001</td>\n",
       "            <td>Subject A</td>\n",
       "            <td>1</td>\n",
       "        </tr>\n",
       "        <tr>\n",
       "            <td>1</td>\n",
       "            <td>1002</td>\n",
       "            <td>Subject B</td>\n",
       "            <td>1</td>\n",
       "        </tr>\n",
       "        <tr>\n",
       "            <td>2</td>\n",
       "            <td>1003</td>\n",
       "            <td>Subject A</td>\n",
       "            <td>1</td>\n",
       "        </tr>\n",
       "        <tr>\n",
       "            <td>3</td>\n",
       "            <td>1004</td>\n",
       "            <td>Subject B</td>\n",
       "            <td>1</td>\n",
       "        </tr>\n",
       "        <tr>\n",
       "            <td>4</td>\n",
       "            <td>1005</td>\n",
       "            <td>Subject B</td>\n",
       "            <td>1</td>\n",
       "        </tr>\n",
       "    </tbody>\n",
       "</table>"
      ],
      "text/plain": [
       "[(0, 1001, 'Subject A', 1),\n",
       " (1, 1002, 'Subject B', 1),\n",
       " (2, 1003, 'Subject A', 1),\n",
       " (3, 1004, 'Subject B', 1),\n",
       " (4, 1005, 'Subject B', 1)]"
      ]
     },
     "execution_count": 15,
     "metadata": {},
     "output_type": "execute_result"
    }
   ],
   "source": [
    "%%sql\n",
    "\n",
    "SELECT *\n",
    "FROM email_marketing_campaign_fcwaiz\n",
    "LIMIT 5"
   ]
  },
  {
   "cell_type": "code",
   "execution_count": 30,
   "id": "173fc740-ddf3-4d42-996d-c06db26cd7f2",
   "metadata": {},
   "outputs": [
    {
     "name": "stdout",
     "output_type": "stream",
     "text": [
      " * sqlite:///email_marketing_fcwaiz.db\n",
      "Done.\n"
     ]
    },
    {
     "data": {
      "text/html": [
       "<table>\n",
       "    <thead>\n",
       "        <tr>\n",
       "            <th>subject_line</th>\n",
       "            <th>total_emails</th>\n",
       "            <th>total_opened</th>\n",
       "            <th>open_rate</th>\n",
       "        </tr>\n",
       "    </thead>\n",
       "    <tbody>\n",
       "        <tr>\n",
       "            <td>Subject A</td>\n",
       "            <td>4520</td>\n",
       "            <td>2358</td>\n",
       "            <td>0.5216814159292036</td>\n",
       "        </tr>\n",
       "        <tr>\n",
       "            <td>Subject B</td>\n",
       "            <td>4480</td>\n",
       "            <td>2273</td>\n",
       "            <td>0.5073660714285714</td>\n",
       "        </tr>\n",
       "    </tbody>\n",
       "</table>"
      ],
      "text/plain": [
       "[('Subject A', 4520, 2358, 0.5216814159292036),\n",
       " ('Subject B', 4480, 2273, 0.5073660714285714)]"
      ]
     },
     "execution_count": 30,
     "metadata": {},
     "output_type": "execute_result"
    }
   ],
   "source": [
    "%%sql\n",
    "\n",
    "SELECT\n",
    "    subject_line,\n",
    "    COUNT(*) AS total_emails,\n",
    "    SUM(CASE WHEN opened_status THEN 1 ELSE 0 END) AS total_opened,\n",
    "    AVG(CAST(opened_status AS INTEGER)) AS open_rate\n",
    "FROM \n",
    "    email_marketing_campaign_fcwaiz\n",
    "GROUP BY\n",
    "    subject_line;"
   ]
  },
  {
   "cell_type": "code",
   "execution_count": 48,
   "id": "667ef16a-42ab-460b-b765-efa7da26dbba",
   "metadata": {},
   "outputs": [
    {
     "name": "stdout",
     "output_type": "stream",
     "text": [
      " * sqlite:///email_marketing_fcwaiz.db\n",
      "Done.\n"
     ]
    },
    {
     "data": {
      "text/html": [
       "<table>\n",
       "    <thead>\n",
       "        <tr>\n",
       "            <th>subject_line</th>\n",
       "            <th>difference</th>\n",
       "            <th>total_opened</th>\n",
       "            <th>open_rate</th>\n",
       "        </tr>\n",
       "    </thead>\n",
       "    <tbody>\n",
       "        <tr>\n",
       "            <td>Subject B less A</td>\n",
       "            <td>40</td>\n",
       "            <td>0</td>\n",
       "            <td>0</td>\n",
       "        </tr>\n",
       "    </tbody>\n",
       "</table>"
      ],
      "text/plain": [
       "[('Subject B less A', 40, 0, 0)]"
      ]
     },
     "execution_count": 48,
     "metadata": {},
     "output_type": "execute_result"
    }
   ],
   "source": [
    "%%sql\n",
    "\n",
    "SELECT\n",
    "    'Subject B less A' AS subject_line,\n",
    "    (SELECT COUNT(*) FROM email_marketing_campaign_fcwaiz WHERE subject_line = 'Subject A') - \n",
    "    (SELECT COUNT(*) FROM email_marketing_campaign_fcwaiz WHERE subject_line = 'Subject B') AS 'difference',\n",
    "    0 AS total_opened,\n",
    "    0 AS open_rate"
   ]
  },
  {
   "cell_type": "markdown",
   "id": "72d2a24d-de03-4c28-bd66-227e2a7a7807",
   "metadata": {},
   "source": [
    "From the above table while analysing which subject has the tendency in encouraging recipient to open an email, opening rate for Subject a is 52% while that of B is 51%; this shows there isn't any significant difference between the two in terms of having the tendency of having a higher opening rate since subject A is more than subject B.  This suggests that Subject A is likely to have a higher opening rate than Subject B.\n",
    "\n",
    "However, there are factors beyond just the open rate that should be considered while analyzing the effectiveness of email subjects in encouraging recipients to open emails such as timing of email delivery, if the email is addressing known influx of social media trending issues, relevance of the email content to the subject line, sender's reputation, previous engagement metrics, the email's design, etc.\n",
    "\n",
    "For this reason, with the conclusion stated, it is important to conduct further analysis, experimentation to determine which subject line is more effective overall in encouraging recipients to open the emails.  Additionally, marketers can continuously monitor and optimize email campaigns based on recipient behaviour and feedback as these can improve the overall effectiveness in the long run."
   ]
  },
  {
   "cell_type": "code",
   "execution_count": null,
   "id": "6eedcfb1-46c0-4c89-ae44-844bfd47b731",
   "metadata": {},
   "outputs": [],
   "source": [
    "# Resources: https://youtu.be/sDY_fKe_JVw"
   ]
  },
  {
   "cell_type": "markdown",
   "id": "ae830d60-7cfe-480e-a0d7-4660a1461d8b",
   "metadata": {},
   "source": [
    "**END OF DOCUMENTATION COMMENTARY**\n",
    "\n",
    "connect_pipe = sqlite3.connect('email_marketing_fcwaiz.db')\n",
    "\n",
    "cursor = df.to_sql('email_marketing_campaign_fcwaiz', connect_pipe)\n",
    "\n",
    "In the above code snippet, the second line of code \"cursor = df.to_sql('email_marketing_campaign_fcwaiz', connect_pipe)\" means that the DataFrame df is being transferred to a table named 'email_marketing_campaign_fcwaiz' within the SQLite database named 'email_marketing_fcwaiz.db'.\n",
    "\n",
    "The to_sql() function in pandas is used to write records stored in a DataFrame to a SQL database. In this case, it's writing the contents of the DataFrame df into a table named 'email_marketing_campaign_fcwaiz' within the SQLite database 'email_marketing_fcwaiz.db', which you've established a connection to with the sqlite3.connect() function.\n",
    "\n",
    "Once the data is written to the SQLite database, you can indeed analyze it using SQL queries, as SQLite supports SQL queries for data retrieval and manipulation. You can execute SQL queries against the database using the cursor object returned by connect_pipe.cursor()"
   ]
  },
  {
   "cell_type": "markdown",
   "id": "467295aa-faeb-4c41-b330-06b3d0213d84",
   "metadata": {},
   "source": []
  },
  {
   "cell_type": "code",
   "execution_count": null,
   "id": "88a58b5f-06e0-4c2b-8210-db084db272ef",
   "metadata": {},
   "outputs": [],
   "source": []
  }
 ],
 "metadata": {
  "kernelspec": {
   "display_name": "Python 3 (ipykernel)",
   "language": "python",
   "name": "python3"
  },
  "language_info": {
   "codemirror_mode": {
    "name": "ipython",
    "version": 3
   },
   "file_extension": ".py",
   "mimetype": "text/x-python",
   "name": "python",
   "nbconvert_exporter": "python",
   "pygments_lexer": "ipython3",
   "version": "3.10.6"
  }
 },
 "nbformat": 4,
 "nbformat_minor": 5
}
